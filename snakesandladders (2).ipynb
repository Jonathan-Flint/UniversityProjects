#!/usr/bin/env python
# coding: utf-8

# #Jonathan Flint LH Scientific Laboratory 2 Project
# 
# 2) Snakes and laddes
# 
# There is a popular board game for children: Snakes and Ladders.
# 
# • Find the average duration of a game and order the squares according to the average
# length of time until victory. Assess the spread in duration by calculating the variance of
# the duration.
# 
# • Your code should be able to cope with a random initialisation of the ”snakes and ladders” board-(i.e. number of squares, ladders and snakes and end conditions. You should
# consider this in terms of ”transfer matrices” and use this as the basis of your algorithm.

# In[2]:


'''Finding the average length of one game'''

import random
import sys
import matplotlib.pyplot as plt
import numpy as np

np.set_printoptions(suppress=True, precision=2, linewidth=1000, threshold=sys.maxsize)

#renders a 10x10 board labelling the rows and columns from 0 to 9
def render_board():
    nrows,ncols = 10,10
    image = np.zeros(nrows*ncols)
    image = image.reshape((nrows,ncols))
    col_labels = ['0', '1', '2', '3', '4', '5', '6', '7', '8', '9']
    row_labels = ['0', '1', '2', '3', '4', '5', '6', '7', '8', '9']
    plt.matshow(image)
    plt.xticks(range(ncols), col_labels)
    plt.yticks(range(nrows), row_labels)
    plt.show()
#pre-set locations and destinations of snakes and ladders
SNAKES_LADDERS = {
    1: 38, 4: 14, 9: 31,
    16: 6,
    21: 42, 28: 84,
    36: 44,
    48: 26, 49: 11,
    51: 67, 56: 53,
    62: 19, 64: 60,
    71: 91, 80: 100,
    87: 24,
    93: 73, 95: 75, 98: 78,
}
SNAKES_LADDERS_RANDOM = {}
#print(SNAKES_)
#sets a max move and the max square, where when reached the game ends
max_moves = 10000
max_square = 100

def one_game():
    square = 0
    for n in range(1, max_moves+1):
        dice_roll = random.randrange(1,7)
        square += dice_roll
        square = SNAKES_LADDERS.get(square, square)
        if square == max_square:
            return n
        if square > max_square:
            distance_to_end = max_square - square
            square += 2*distance_to_end - dice_roll
    return max_moves
#one_game()

x = int(input('How many games average over ?'))
num_games = np.linspace(1, x, x)
print(num_games)

def average_game():
    total_moves = 0
    for i, m in enumerate(num_games):
        total_moves += one_game()
    average = total_moves / x
    return average
average_game()

variances = []

def average_game2():
    game_length = []
    for i, m in enumerate(num_games):
        game_length.append(one_game())
    #print(game_length)
    average = np.sum(game_length)/x
    for index, element in enumerate(game_length):    
        variances.append((element-average)**2)
    var = np.sum(variances)/x
    sd = np.sqrt(var)
    print('the average game length is', average)
    print('the variance of the game length is', var)
    print('the standard deviation is', sd)
    return average, var, sd 



def one_game_RANDOM():
    square = 0
    for n in range(1, max_moves+1):
        dice_roll = random.randrange(1,7)
        square += dice_roll
        square = SNAKES_LADDERS_RANDOM.get(square, square)
        if square == max_square:
            return n
        if square > max_square:
            distance_to_end = max_square - square
            square += 2*distance_to_end - dice_roll
    return max_moves

def average_game2_RANDOM():
    game_length = []
    for i, m in enumerate(num_games):
        game_length.append(one_game_RANDOM())
    #print(game_length)
    average = np.sum(game_length)/x
    for index, element in enumerate(game_length):    
        variances.append((element-average)**2)
    var = np.sum(variances)/x
    sd = np.sqrt(var)
    return average, var, sd

average_game2()


# In[3]:


while(True):
    print('The board must have at least 4 empty tiles, i.e. chose a number of squares at least twice the total snakes and ladders +4')
    num_snakes = int(input('How many snakes on the board? '))
    num_ladders = int(input('How many ladders on the board? '))
    num_squares = int(input('How many squares on the board? '))
    if num_squares % 2 == 1:
        print('please choose an even number of squares')
        continue
    if num_snakes + num_ladders +1 < num_squares/2:
        break
    else:
        print('There are not enough squares on the board to accomodate the number of snakes and ladders you asked for, please choose reasonable values.')
        continue
        

available_tiles = list(range(1, num_squares))
        
#Function to generate a unique random start point for the snakes, will never return the same tile number twice in a
#single run so no two snakes or ladders start on the same tile

def get_snake_start():
    index = -1
    while(index == -1):
        rand = random.randint(np.amin(np.array(available_tiles))+1,num_squares-1)#-1 so there are no snakes starting on the final tile
        try:
            index = available_tiles.index(rand) 
        except ValueError:
            continue
    del available_tiles[index]
    print(rand, 'random snake start')
    return rand

#function to randomise the start tile of the ladders

def get_ladder_start():
    index = -1
    while(index == -1):
        rand = random.randint(1,np.amax(np.array(available_tiles[:-1])))
        try:
            index = available_tiles.index(rand) 
        except ValueError:
            continue
    del available_tiles[index]
    print(rand, 'random ladder start')
    return rand
    
#Function to generate random end point for a snake, below the ranodmly generated start point for the snake, again avoiding
#repeated tiles
    
def get_snake_end(start):
    index = -1
    while(index == -1):
        rand = random.randint(1,start)
        try:
            index = available_tiles.index(rand) 
        except ValueError:
            continue
    del available_tiles[index]
    print(rand,'random snake end')
    return rand

#Function to generate random end point for a ladder, above the randomly generated start point, avoiding repeated tiles

def get_ladder_end(start):
    index = -1
    while(index == -1):
        rand = random.randint(start,num_squares-1)#-1 so dont have ladder taking player to the final tile
        try:
            index = available_tiles.index(rand) 
        except ValueError:
            continue
    del available_tiles[index]
    print(rand, 'random ladder end')
    return rand

#Function to call above functions to fully generate the board

def generate_board():
    SNAKES_LADDERS_RANDOM = {}
    for n in range(num_snakes):
        print(np.amin(np.array(available_tiles)),'lowest available tile print')
        start = get_snake_start()
        end = get_snake_end(start)
        snake = {start:end}
        print(snake)
        SNAKES_LADDERS_RANDOM.update(snake)
    for n in range(num_ladders):
        print(np.amax(np.array(available_tiles)),'max available tile print')
        start = get_ladder_start()
        if start == np.amax(np.array(available_tiles)):
            start = get_ladder_start()
            print(start)
            continue
        end = get_ladder_end(start)
        ladder = {start:end}
        print(ladder)
        SNAKES_LADDERS_RANDOM.update(ladder)
    return SNAKES_LADDERS_RANDOM

#generate_board()
#print(generate_board())

SNAKES_LADDERS_RANDOM = generate_board()
print(SNAKES_LADDERS_RANDOM)


# In[4]:


'''Carries out a Monte-Carlo simulation with the randomly generated board from the user defined parameters'''
print('Average, variance, standard deviation')
average_game2_RANDOM()


# In[23]:


'''Code to take the randomly generated SNAKES_LADDERS dictionary and produce the transfer matrix from this'''
import sys
import numpy
# import pandas as pd
# pd.set_option('display.max_rows', 500)
# pd.set_option('display.max_columns', 500)
# pd.set_option('display.width', 1000)

print(SNAKES_LADDERS_RANDOM)

def check_for_snake_or_ladder_start():
    return 

def create_transfer_matrix():
    transfer_matrix = np.zeros((num_squares+1, num_squares+1))
    probability = 1/6
    #print(transfer_matrix)
    for i in range(1, num_squares+1):
        transfer_matrix[i-1,i:i+6] = probability
    print('Matrix')
    # for x in transfer_matrix:
    #     print(x)
    print('***************************')
    
    '''account for going beyond the final tile, when going past final tile, move back the number of places overstepped by'''

    transfer_matrix[-6:-1,-6:-1] += probability
    transfer_matrix[-2,-6] += probability
    transfer_matrix[-6,-6:-2] -= probability
    transfer_matrix[-5,-6:-3] -= probability
    transfer_matrix[-4,-6:-4] -= probability
    transfer_matrix[-3,-6:-5] -= probability
    transfer_matrix[-2,-6] -= probability
    # for x in transfer_matrix:
    #     print(x)
    
    '''Account for the snakes and ladders'''

    # For each player start tile
    for i in range(0, num_squares+1):       
        # for each start point of a snake or ladder
        for start_point in SNAKES_LADDERS_RANDOM:
            # find the difference from the player start tile
            diff = start_point-i
            # Handle snakes within roll range (start tile 47 or less can't land on snakes/ladders behind it, but 48 and 49 can bounce back to behind it so we need to handle those)
            if (i < num_squares - 2 and diff <= 6 and diff > 0) or (i == num_squares - 2 and diff <= 6 and diff >= -2) or (i == num_squares - 1 and diff <= 6 and diff >= -4):
                # get the snake/ladder landing tile
                snakeladder = SNAKES_LADDERS_RANDOM[start_point]
                #print(snakeladder)
                               
                # print('*********** Turn ', i)
               
                '''add the probabilities to all the tiles within the dice roll of the start of a snake or ladder accounting for the ends of the snakes/ladders'''

                #print('******')
                
                # Update the probability on the landing tile for the snake/ladder
                #print(snakeladder, transfer_matrix[i,snakeladder], transfer_matrix[i,snakeladder] + probability)
                transfer_matrix[i,snakeladder] += probability

                # If the playyer is starting on tile 45 we could bounce back onto tile 49 so have to handle snakes/ladders on this tile twice
                if i == num_squares - 5 and (start_point == num_squares - 1):
                    #print(snakeladder, transfer_matrix[i,snakeladder], transfer_matrix[i,snakeladder] + probability)
                    transfer_matrix[i,snakeladder] += probability

                # If the playyer is starting on tile 46 or 47 we could bounce back onto tile 48 or 49 so have to handle snakes/ladders on these tiles twice
                if (i == num_squares - 4 or i == num_squares - 3) and (start_point == num_squares - 2 or start_point == num_squares - 1):
                    #print(snakeladder, transfer_matrix[i,snakeladder], transfer_matrix[i,snakeladder] + probability)
                    transfer_matrix[i,snakeladder] += probability

                # If the playyer is starting on tile 48 we could bounce back onto tile 49 so have to handle snakes/ladders on this tile twice
                if i == num_squares - 2 and (start_point == num_squares - 1):         
                    #print(snakeladder, transfer_matrix[i,snakeladder], transfer_matrix[i,snakeladder] + probability)
                    transfer_matrix[i,snakeladder] += probability

                #print(i,transfer_matrix[i])            

    # 
    for i in range(0, num_squares+1):       
        snakeladder = SNAKES_LADDERS_RANDOM.get(i)
        if snakeladder != None: #finds squares where a snake/ladder starts
            transfer_matrix[i,:] = 0    #sets this whole row to 0 as can never start a turn on these tiles
            transfer_matrix[:,i] = 0    #sets this whole column to 0 as can never end a turn on these tiles    
                                      
    transfer_matrix[num_squares,num_squares] = 1.0
    return transfer_matrix

final_transfer_matrix = create_transfer_matrix()
# print('***********', create_transfer_matrix())

for x, y in enumerate(final_transfer_matrix):
    print(y, round(np.sum(y), 0) == 1,  round(np.sum(y), 0), np.sum(y),x)   
print(SNAKES_LADDERS_RANDOM)

# Holds each turns probability matrix
overtime_probability_matrix = []
def generate_probability_matrix(): 
    # Generate the starting probability matrix
    probability_matrix = [1, *np.zeros(num_squares)]
    # track the number of turns
    nt = 0
    # using the max number of turns, multiply the probability matrix by the transfer matrix
    for i in range(0, max_moves):
        probability_matrix = probability_matrix @ final_transfer_matrix
        nt = i

        # Bail out early if only 1/100,000,000 games last over 10,000 turns (Rare!)
        if(round(probability_matrix[-1], 8) == 1):            
            break
        
        # Save the result of each turn in the over time matrix
        overtime_probability_matrix.append(np.array(probability_matrix.copy()))
    
    for x in overtime_probability_matrix:
        print(x)   
    print("Max number of turns required", nt)
    return probability_matrix

generate_probability_matrix()
# In[ ]:
